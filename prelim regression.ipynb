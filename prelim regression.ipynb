{
 "cells": [
  {
   "cell_type": "code",
   "execution_count": 2,
   "metadata": {
    "collapsed": false
   },
   "outputs": [
    {
     "name": "stderr",
     "output_type": "stream",
     "text": [
      "INFO: Cloning cache of Convex from https://github.com/JuliaOpt/Convex.jl.git\n",
      "INFO: Cloning cache of MathProgBase from https://github.com/JuliaOpt/MathProgBase.jl.git\n",
      "INFO: Installing Convex v0.4.0\n",
      "INFO: Installing MathProgBase v0.5.7\n",
      "INFO: Package database updated\n",
      "INFO: METADATA is out-of-date — you may not have the latest version of Convex\n",
      "INFO: Use `Pkg.update()` to get the latest versions of your packages\n",
      "INFO: Cloning cache of ECOS from https://github.com/JuliaOpt/ECOS.jl.git\n",
      "INFO: Installing ECOS v0.6.7\n",
      "INFO: Building ECOS\n",
      "INFO: Attempting to Create directory C:\\Users\\admin\\.julia\\v0.5\\ECOS\\deps\\downloads\n",
      "INFO: Downloading file https://cache.julialang.org/https://bintray.com/artifact/download/tkelman/generic/ecos-2.0.2.7z\n",
      "INFO: Done downloading file https://cache.julialang.org/https://bintray.com/artifact/download/tkelman/generic/ecos-2.0.2.7z\n"
     ]
    },
    {
     "name": "stdout",
     "output_type": "stream",
     "text": [
      "\r\n",
      "7-Zip [64] 9.20  Copyright (c) 1999-2010 Igor Pavlov  2010-11-18\r\n",
      "\r\n",
      "Processing archive: C:\\Users\\admin\\.julia\\v0.5\\ECOS\\deps\\downloads\\ecos-2.0.2.7z\r\n",
      "\r\n",
      "Extracting  usr\\COPYING\r\n"
     ]
    },
    {
     "name": "stderr",
     "output_type": "stream",
     "text": [
      "INFO: Attempting to Create directory C:\\Users\\admin\\.julia\\v0.5\\ECOS\n",
      "INFO: Directory C:\\Users\\admin\\.julia\\v0.5\\ECOS already created\n"
     ]
    },
    {
     "name": "stdout",
     "output_type": "stream",
     "text": [
      "Extracting  usr\\bin32\\libecos.dll\r\n",
      "Extracting  usr\\bin64\\libecos.dll\r\n",
      "Extracting  usr\\bin64\r\n",
      "Extracting  usr\\bin32\r\n",
      "Extracting  usr\r\n",
      "\r\n",
      "Everything is Ok\r\n",
      "\r\n",
      "Folders: 3\r\n",
      "Files: 3\r\n",
      "Size:       718676\r\n",
      "Compressed: 195537\r\n"
     ]
    },
    {
     "name": "stderr",
     "output_type": "stream",
     "text": [
      "INFO: Package database updated\n",
      "INFO: METADATA is out-of-date — you may not have the latest version of ECOS\n",
      "INFO: Use `Pkg.update()` to get the latest versions of your packages\n",
      "INFO: Recompiling stale cache file C:\\Users\\admin\\.julia\\lib\\v0.5\\DataStructures.ji for module DataStructures.\n",
      "INFO: Precompiling module MathProgBase.\n",
      "INFO: Precompiling module ECOS.\n",
      "WARNING: Method definition "
     ]
    },
    {
     "data": {
      "text/plain": [
       "ECOS.ECOSSolver(Any[(:verbose,0)])"
      ]
     },
     "execution_count": 2,
     "metadata": {},
     "output_type": "execute_result"
    },
    {
     "name": "stderr",
     "output_type": "stream",
     "text": [
      "norm(Convex.AbstractExpr, Symbol) in module Convex at C:\\Users\\admin\\.julia\\v0.5\\Convex\\src\\atoms/second_order_cone/norm.jl:45 overwritten at deprecated.jl:49.\n"
     ]
    }
   ],
   "source": [
    "Pkg.add(\"Convex\")\n",
    "Pkg.add(\"ECOS\")\n",
    "using DataFrames, PyPlot\n",
    "using Convex\n",
    "using PyPlot\n",
    "using ECOS\n",
    "set_default_solver(ECOSSolver(verbose=0))"
   ]
  },
  {
   "cell_type": "code",
   "execution_count": 3,
   "metadata": {
    "collapsed": false
   },
   "outputs": [],
   "source": [
    "sheet = readtable(\"2009_manhattan.csv\");"
   ]
  },
  {
   "cell_type": "code",
   "execution_count": 4,
   "metadata": {
    "collapsed": false
   },
   "outputs": [
    {
     "data": {
      "text/plain": [
       "(18674,20)"
      ]
     },
     "execution_count": 4,
     "metadata": {},
     "output_type": "execute_result"
    }
   ],
   "source": [
    "size(sheet)"
   ]
  },
  {
   "cell_type": "code",
   "execution_count": 5,
   "metadata": {
    "collapsed": false
   },
   "outputs": [
    {
     "data": {
      "text/plain": [
       "(13918,20)"
      ]
     },
     "execution_count": 5,
     "metadata": {},
     "output_type": "execute_result"
    }
   ],
   "source": [
    "reg_price=sheet[:SALE_PRICE].>1000\n",
    "sheet=sheet[reg_price,:];\n",
    "size(sheet)"
   ]
  },
  {
   "cell_type": "code",
   "execution_count": 6,
   "metadata": {
    "collapsed": false
   },
   "outputs": [
    {
     "data": {
      "text/plain": [
       "(8486,20)"
      ]
     },
     "execution_count": 6,
     "metadata": {},
     "output_type": "execute_result"
    }
   ],
   "source": [
    "reg_sqft=sheet[:GROSS_SQUARE_FEET].>0\n",
    "sheet=sheet[reg_sqft,:];\n",
    "size(sheet)"
   ]
  },
  {
   "cell_type": "code",
   "execution_count": 7,
   "metadata": {
    "collapsed": false
   },
   "outputs": [
    {
     "data": {
      "text/plain": [
       "37-element DataArrays.DataArray{String,1}:\n",
       " \"ALPHABET CITY\"            \n",
       " \"CHELSEA\"                  \n",
       " \"CHINATOWN\"                \n",
       " \"CIVIC CENTER\"             \n",
       " \"CLINTON\"                  \n",
       " \"EAST VILLAGE\"             \n",
       " \"FASHION\"                  \n",
       " \"FINANCIAL\"                \n",
       " \"FLATIRON\"                 \n",
       " \"GRAMERCY\"                 \n",
       " \"GREENWICH VILLAGE-CENTRAL\"\n",
       " \"GREENWICH VILLAGE-WEST\"   \n",
       " \"HARLEM-CENTRAL\"           \n",
       " ⋮                          \n",
       " \"MURRAY HILL\"              \n",
       " \"SOHO\"                     \n",
       " \"SOUTHBRIDGE\"              \n",
       " \"TRIBECA\"                  \n",
       " \"UPPER EAST SIDE (59-79)\"  \n",
       " \"UPPER EAST SIDE (79-96)\"  \n",
       " \"UPPER EAST SIDE (96-110)\" \n",
       " \"UPPER WEST SIDE (59-79)\"  \n",
       " \"UPPER WEST SIDE (79-96)\"  \n",
       " \"UPPER WEST SIDE (96-116)\" \n",
       " \"WASHINGTON HEIGHTS LOWER\" \n",
       " \"WASHINGTON HEIGHTS UPPER\" "
      ]
     },
     "execution_count": 7,
     "metadata": {},
     "output_type": "execute_result"
    }
   ],
   "source": [
    "areas=unique(sheet[:NEIGHBORHOOD])"
   ]
  },
  {
   "cell_type": "code",
   "execution_count": 8,
   "metadata": {
    "collapsed": false
   },
   "outputs": [
    {
     "data": {
      "text/plain": [
       "45-element DataArrays.DataArray{Int64,1}:\n",
       " 10009\n",
       " 10002\n",
       " 10011\n",
       " 10001\n",
       " 10010\n",
       " 10013\n",
       " 10038\n",
       " 10007\n",
       " 10036\n",
       " 10019\n",
       " 10003\n",
       " 10018\n",
       " 10005\n",
       "     ⋮\n",
       " 10022\n",
       " 10065\n",
       " 10021\n",
       " 10075\n",
       " 10044\n",
       " 10028\n",
       " 10128\n",
       " 10023\n",
       " 10024\n",
       " 10069\n",
       " 10033\n",
       " 10040"
      ]
     },
     "execution_count": 8,
     "metadata": {},
     "output_type": "execute_result"
    }
   ],
   "source": [
    "zips=unique(sheet[:ZIP_CODE])"
   ]
  },
  {
   "cell_type": "markdown",
   "metadata": {},
   "source": [
    "## Build neigbourhood to avg price dictionary"
   ]
  },
  {
   "cell_type": "code",
   "execution_count": 9,
   "metadata": {
    "collapsed": false
   },
   "outputs": [
    {
     "data": {
      "text/plain": [
       "Dict{Any,Any} with 0 entries"
      ]
     },
     "execution_count": 9,
     "metadata": {},
     "output_type": "execute_result"
    }
   ],
   "source": [
    "area_avg=Dict([])"
   ]
  },
  {
   "cell_type": "code",
   "execution_count": 10,
   "metadata": {
    "collapsed": false
   },
   "outputs": [],
   "source": [
    "for i=1:length(areas)\n",
    "    current_area=areas[i]\n",
    "    this_area=sheet[:NEIGHBORHOOD].==current_area\n",
    "    area_prices=sheet[this_area,:SALE_PRICE];\n",
    "    area_avg[current_area]=mean(area_prices)\n",
    "end"
   ]
  },
  {
   "cell_type": "code",
   "execution_count": 11,
   "metadata": {
    "collapsed": false
   },
   "outputs": [
    {
     "data": {
      "text/plain": [
       "3.012668663265306e6"
      ]
     },
     "execution_count": 11,
     "metadata": {},
     "output_type": "execute_result"
    }
   ],
   "source": [
    "area_avg[\"SOHO\"]"
   ]
  },
  {
   "cell_type": "markdown",
   "metadata": {},
   "source": [
    "# This is the X matrix !!"
   ]
  },
  {
   "cell_type": "code",
   "execution_count": 12,
   "metadata": {
    "collapsed": false
   },
   "outputs": [
    {
     "data": {
      "text/plain": [
       "8486×9 Array{Float64,2}:\n",
       " 1.37516e6  1920.0  0.0  1.0  0.0  0.0   2401.0   6920.0  1.0\n",
       " 1.37516e6  1900.0  0.0  1.0  0.0  0.0   2212.0   9660.0  1.0\n",
       " 1.37516e6  1920.0  0.0  1.0  0.0  0.0   4918.0  15392.0  1.0\n",
       " 1.37516e6     0.0  0.0  1.0  0.0  0.0      0.0   1300.0  1.0\n",
       " 1.37516e6     0.0  0.0  1.0  0.0  0.0      0.0   1135.0  1.0\n",
       " 1.37516e6     0.0  0.0  1.0  0.0  0.0      0.0   1048.0  1.0\n",
       " 1.37516e6     0.0  0.0  1.0  0.0  0.0      0.0   1054.0  1.0\n",
       " 1.37516e6  1928.0  0.0  1.0  0.0  0.0   6442.0    450.0  1.0\n",
       " 1.37516e6  1928.0  0.0  1.0  0.0  0.0   6442.0    490.0  1.0\n",
       " 1.37516e6     0.0  0.0  1.0  0.0  0.0      0.0    740.0  1.0\n",
       " 1.37516e6     0.0  0.0  1.0  0.0  0.0      0.0    750.0  1.0\n",
       " 1.37516e6     0.0  0.0  1.0  0.0  0.0      0.0   1000.0  1.0\n",
       " 1.37516e6     0.0  0.0  1.0  0.0  0.0      0.0    632.0  1.0\n",
       " ⋮                                 ⋮                         \n",
       " 1.8725e6   1987.0  0.0  1.0  0.0  0.0      0.0    702.0  1.0\n",
       " 1.8725e6   1987.0  0.0  1.0  0.0  0.0      0.0    694.0  1.0\n",
       " 1.8725e6   1987.0  0.0  1.0  0.0  0.0      0.0    983.0  1.0\n",
       " 1.8725e6   1987.0  0.0  1.0  0.0  0.0      0.0    777.0  1.0\n",
       " 1.8725e6   1987.0  0.0  1.0  0.0  0.0      0.0    777.0  1.0\n",
       " 1.8725e6   1987.0  0.0  1.0  0.0  0.0      0.0    777.0  1.0\n",
       " 1.8725e6   1987.0  0.0  1.0  0.0  0.0      0.0    833.0  1.0\n",
       " 1.8725e6   2003.0  0.0  1.0  0.0  0.0      0.0   1187.0  1.0\n",
       " 1.8725e6   2003.0  0.0  1.0  0.0  0.0      0.0   1187.0  1.0\n",
       " 1.8725e6   2003.0  0.0  1.0  0.0  0.0      0.0    912.0  1.0\n",
       " 1.8725e6   1923.0  0.0  0.0  0.0  1.0  10000.0  29460.0  1.0\n",
       " 1.8725e6   1950.0  0.0  0.0  0.0  1.0   3750.0   4500.0  1.0"
      ]
     },
     "execution_count": 12,
     "metadata": {},
     "output_type": "execute_result"
    }
   ],
   "source": [
    "n=length(sheet[1])\n",
    "d=8\n",
    "X=zeros(n,d)\n",
    "X=[X ones(n)] #add an offset\n",
    "\n",
    "for i=1:n\n",
    "    X[i,1]=area_avg[sheet[i,:NEIGHBORHOOD]]\n",
    "    X[i,2]=sheet[i,:YEAR_BUILT]\n",
    "    tax=sheet[i,:TAX_CLASS_AT_TIME_OF_SALE]\n",
    "    X[i,2+tax]=1\n",
    "    X[i,7]=sheet[i,:LAND_SQUARE_FEET]\n",
    "    X[i,8]=sheet[i,:GROSS_SQUARE_FEET]\n",
    "end\n",
    "\n",
    "X"
   ]
  },
  {
   "cell_type": "code",
   "execution_count": 13,
   "metadata": {
    "collapsed": false
   },
   "outputs": [
    {
     "data": {
      "text/plain": [
       "8486-element Array{Int64,1}:\n",
       "  670509\n",
       " 3500000\n",
       " 1252452\n",
       " 1299000\n",
       " 1050000\n",
       "  775000\n",
       "  976000\n",
       "  585000\n",
       "  585000\n",
       "  750000\n",
       "  712500\n",
       "  790000\n",
       "  700000\n",
       "       ⋮\n",
       "   73164\n",
       "   68141\n",
       "  445000\n",
       "   95593\n",
       "  102560\n",
       "  105453\n",
       "  100793\n",
       "  700000\n",
       "   85000\n",
       "  515000\n",
       " 2800000\n",
       " 1025000"
      ]
     },
     "execution_count": 13,
     "metadata": {},
     "output_type": "execute_result"
    }
   ],
   "source": [
    "y=convert(Array,sheet[:,:SALE_PRICE])"
   ]
  },
  {
   "cell_type": "markdown",
   "metadata": {},
   "source": [
    "## Break X in half into train and test set, same as y"
   ]
  },
  {
   "cell_type": "code",
   "execution_count": 33,
   "metadata": {
    "collapsed": false
   },
   "outputs": [
    {
     "data": {
      "text/plain": [
       "8486-element BitArray{1}:\n",
       "  true\n",
       " false\n",
       " false\n",
       "  true\n",
       "  true\n",
       " false\n",
       " false\n",
       " false\n",
       "  true\n",
       " false\n",
       "  true\n",
       " false\n",
       " false\n",
       "     ⋮\n",
       "  true\n",
       "  true\n",
       "  true\n",
       "  true\n",
       " false\n",
       " false\n",
       " false\n",
       "  true\n",
       "  true\n",
       "  true\n",
       "  true\n",
       " false"
      ]
     },
     "execution_count": 33,
     "metadata": {},
     "output_type": "execute_result"
    }
   ],
   "source": [
    "flips=2*rand(n)\n",
    "train_rows=flips.>=1\n",
    "test_rows=flips.<1"
   ]
  },
  {
   "cell_type": "code",
   "execution_count": 34,
   "metadata": {
    "collapsed": false
   },
   "outputs": [
    {
     "data": {
      "text/plain": [
       "4277-element Array{Int64,1}:\n",
       "   670509\n",
       "  1299000\n",
       "  1050000\n",
       "   585000\n",
       "   712500\n",
       "  1500000\n",
       "  2000000\n",
       "  7260000\n",
       "  3400000\n",
       "  2424000\n",
       "  3653000\n",
       "  6500000\n",
       " 34962084\n",
       "        ⋮\n",
       "  5975000\n",
       "  6530552\n",
       "  3675000\n",
       "  1996144\n",
       "    73164\n",
       "    68141\n",
       "   445000\n",
       "    95593\n",
       "   700000\n",
       "    85000\n",
       "   515000\n",
       "  2800000"
      ]
     },
     "execution_count": 34,
     "metadata": {},
     "output_type": "execute_result"
    }
   ],
   "source": [
    "X_train=X[train_rows,:]\n",
    "X_test=X[test_rows,:]\n",
    "y_train=y[train_rows]\n",
    "y_test=y[test_rows]"
   ]
  },
  {
   "cell_type": "markdown",
   "metadata": {},
   "source": [
    "# 1. solve L2 least squares"
   ]
  },
  {
   "cell_type": "code",
   "execution_count": 59,
   "metadata": {
    "collapsed": false
   },
   "outputs": [
    {
     "data": {
      "text/plain": [
       "9-element Array{Float64,1}:\n",
       "     1.27946  \n",
       " -2870.96     \n",
       "     5.725e6  \n",
       "     2.43011e6\n",
       "     0.0      \n",
       "    -7.49754e6\n",
       "    -0.72885  \n",
       "   173.928    \n",
       "     6.57579e5"
      ]
     },
     "execution_count": 59,
     "metadata": {},
     "output_type": "execute_result"
    }
   ],
   "source": [
    "w=X_train\\y_train"
   ]
  },
  {
   "cell_type": "code",
   "execution_count": 60,
   "metadata": {
    "collapsed": false
   },
   "outputs": [
    {
     "name": "stdout",
     "output_type": "stream",
     "text": [
      "mean error squares on train set: 8.51993913656622e13\n",
      "mean error squares on test set: 5.719730420644885e14\n"
     ]
    }
   ],
   "source": [
    "println(\"mean error squares on train set: \",mean((y_train-X_train*w).^2))\n",
    "println(\"mean error squares on test set: \", mean((y_test-X_test*w).^2))"
   ]
  },
  {
   "cell_type": "code",
   "execution_count": 51,
   "metadata": {
    "collapsed": false
   },
   "outputs": [
    {
     "data": {
      "text/plain": [
       "4209×2 Array{Float64,2}:\n",
       "      3.5e6           1.07085e6\n",
       "      1.25245e6       2.00842e6\n",
       " 775000.0             5.02943e6\n",
       " 976000.0             5.03047e6\n",
       " 585000.0            -6.14496e5\n",
       " 750000.0             4.97586e6\n",
       " 790000.0             5.02108e6\n",
       " 700000.0             4.95707e6\n",
       "      2.125e6         5.32642e6\n",
       "      1.5773e6        5.11058e6\n",
       "      5.85494e6       6.00213e6\n",
       " 675250.0            -4.64631e5\n",
       "      1.0785e6        4.9776e6 \n",
       "      ⋮                        \n",
       " 155649.0             4.4837e6 \n",
       " 304200.0             4.46039e6\n",
       " 850000.0             1.01352e6\n",
       "      2.6e6           5.78398e6\n",
       "      2.0125e6        3.73273e6\n",
       "      2.0125e6        3.73273e6\n",
       "      5.0e6           9.15595e6\n",
       "      3.5e6           9.52398e6\n",
       " 102560.0        -85992.1      \n",
       " 105453.0        -85992.1      \n",
       " 100793.0        -76252.1      \n",
       "      1.025e6        -9.26262e6"
      ]
     },
     "execution_count": 51,
     "metadata": {},
     "output_type": "execute_result"
    }
   ],
   "source": [
    "ys=[y_train X_train*w]"
   ]
  },
  {
   "cell_type": "markdown",
   "metadata": {},
   "source": [
    "# 2. ridge and lasso regression"
   ]
  },
  {
   "cell_type": "code",
   "execution_count": 52,
   "metadata": {
    "collapsed": false
   },
   "outputs": [
    {
     "data": {
      "text/plain": [
       "lasso (generic function with 1 method)"
      ]
     },
     "execution_count": 52,
     "metadata": {},
     "output_type": "execute_result"
    },
    {
     "name": "stderr",
     "output_type": "stream",
     "text": [
      "WARNING: Method definition ridge(Any, Any) in module Main at In[46]:2 overwritten at In[52]:2.\n",
      "WARNING: Method definition #ridge(Array{Any, 1}, Main.#ridge, Any, Any) in module Main overwritten.\n",
      "WARNING: Method definition lasso(Any, Any) in module Main at In[46]:11 overwritten at In[52]:11.\n",
      "WARNING: Method definition #lasso(Array{Any, 1}, Main.#lasso, Any, Any) in module Main overwritten.\n"
     ]
    }
   ],
   "source": [
    "function ridge(X,y; λ=1)\n",
    "    d = size(X,2)\n",
    "    w = Variable(d)\n",
    "    p = minimize(sumsquares(X*w - y) + λ*sumsquares(w))\n",
    "    solve!(p)\n",
    "    return w.value\n",
    "end\n",
    "\n",
    "\n",
    "function lasso(X,y; λ=1)\n",
    "    d = size(X,2)\n",
    "    w = Variable(d)\n",
    "    p = minimize(sumsquares(X*w - y) + λ*norm(w,1))\n",
    "    solve!(p)\n",
    "    return w.value\n",
    "end"
   ]
  },
  {
   "cell_type": "code",
   "execution_count": 57,
   "metadata": {
    "collapsed": false
   },
   "outputs": [
    {
     "name": "stdout",
     "output_type": "stream",
     "text": [
      "ridge mean error squares on train set: 9.85575399529831e13\n",
      "ridge mean error squares on test set: 6.235261835196436e14\n"
     ]
    },
    {
     "name": "stderr",
     "output_type": "stream",
     "text": [
      "WARNING: Problem status Infeasible; solution may be inaccurate.\n"
     ]
    }
   ],
   "source": [
    "w_ridge=ridge(X_train,y_train)\n",
    "println(\"ridge mean error squares on train set: \",mean((y_train-X_train*w_ridge).^2))\n",
    "println(\"ridge mean error squares on test set: \", mean((y_test-X_test*w_ridge).^2))"
   ]
  },
  {
   "cell_type": "code",
   "execution_count": 58,
   "metadata": {
    "collapsed": false
   },
   "outputs": [
    {
     "name": "stdout",
     "output_type": "stream",
     "text": [
      "lasso mean error squares on train set: 8.982938842018011e13\n",
      "lasso mean error squares on test set: 5.898291498380994e14\n"
     ]
    },
    {
     "name": "stderr",
     "output_type": "stream",
     "text": [
      "WARNING: Problem status Infeasible; solution may be inaccurate.\n"
     ]
    }
   ],
   "source": [
    "w_lasso=lasso(X_train,y_train)\n",
    "println(\"lasso mean error squares on train set: \",mean((y_train-X_train*w_lasso).^2))\n",
    "println(\"lasso mean error squares on test set: \", mean((y_test-X_test*w_lasso).^2))"
   ]
  },
  {
   "cell_type": "code",
   "execution_count": null,
   "metadata": {
    "collapsed": true
   },
   "outputs": [],
   "source": []
  }
 ],
 "metadata": {
  "kernelspec": {
   "display_name": "Julia 0.5.0",
   "language": "julia",
   "name": "julia-0.5"
  },
  "language_info": {
   "file_extension": ".jl",
   "mimetype": "application/julia",
   "name": "julia",
   "version": "0.5.0"
  }
 },
 "nbformat": 4,
 "nbformat_minor": 0
}
